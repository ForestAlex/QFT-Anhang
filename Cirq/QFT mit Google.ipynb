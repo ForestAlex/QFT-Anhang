{
  "nbformat": 4,
  "nbformat_minor": 0,
  "metadata": {
    "colab": {
      "name": "QFT in Cirq.ipynb",
      "provenance": [],
      "authorship_tag": "ABX9TyMFtKpSF5Mf6zBQSX6UmCxX"
    },
    "kernelspec": {
      "name": "python3",
      "display_name": "Python 3"
    },
    "language_info": {
      "name": "python"
    }
  },
  "cells": [
    {
      "cell_type": "code",
      "execution_count": null,
      "metadata": {
        "id": "Zu7Yy6daQF5f"
      },
      "outputs": [],
      "source": [
        "!pip install cirq\n",
        "import cirq"
      ]
    },
    {
      "cell_type": "code",
      "source": [
        "#(1) Schaltkreis mit 3 Qubits erstellen\n",
        "QFTcircuit = cirq.Circuit()\n",
        "\n",
        "#(2) 3 Qubits einbauen mit '110' = 6 als Anfangszustand\n",
        "q0 = cirq.NamedQubit('q0')\n",
        "q1 = cirq.NamedQubit('q1')\n",
        "q2 = cirq.NamedQubit('q2')\n",
        "\n",
        "QFTcircuit.append([cirq.X(q0), cirq.X(q1)])\n",
        "\n",
        "#(3 + 4) QFT als Subroutine anwenden\n",
        "QFTcircuit.append(cirq.qft(q0, q1, q2, without_reverse=True))\n",
        "\n",
        "#Zeichet den Quantenschaltkreis\n",
        "print(QFTcircuit)"
      ],
      "metadata": {
        "id": "D3ph1a6Y5f_5",
        "colab": {
          "base_uri": "https://localhost:8080/"
        },
        "outputId": "89777d6e-f55d-432f-9049-2acf92a9e59c"
      },
      "execution_count": 3,
      "outputs": [
        {
          "output_type": "stream",
          "name": "stdout",
          "text": [
            "q0: ───X───qft[norev]───\n",
            "           │\n",
            "q1: ───X───#2───────────\n",
            "           │\n",
            "q2: ───────#3───────────\n"
          ]
        }
      ]
    },
    {
      "cell_type": "code",
      "source": [
        "#(5) Simulator in Cirq + Vektor mit Koordinaten ausgeben\n",
        "sim = cirq.Simulator()\n",
        "result = sim.simulate(QFTcircuit)\n",
        "print('Qubit: [x, y, z]')\n",
        "print('q0:', cirq.bloch_vector_from_state_vector(result.final_state_vector, index=0))\n",
        "print('q1:', cirq.bloch_vector_from_state_vector(result.final_state_vector, index=1))\n",
        "print('q2:', cirq.bloch_vector_from_state_vector(result.final_state_vector, index=2))\n"
      ],
      "metadata": {
        "colab": {
          "base_uri": "https://localhost:8080/"
        },
        "id": "5KLlZ_rGYDBc",
        "outputId": "cde64084-5222-413b-ea84-f79ccf8759f0"
      },
      "execution_count": 4,
      "outputs": [
        {
          "output_type": "stream",
          "name": "stdout",
          "text": [
            "Qubit: [x, y, z]\n",
            "q0: [ 0.        -0.9999998  0.       ]\n",
            "q1: [-0.9999998  0.         0.       ]\n",
            "q2: [0.9999998 0.        0.       ]\n"
          ]
        }
      ]
    },
    {
      "cell_type": "code",
      "source": [
        ""
      ],
      "metadata": {
        "id": "1bdCTrn1FnB2"
      },
      "execution_count": null,
      "outputs": []
    }
  ]
}
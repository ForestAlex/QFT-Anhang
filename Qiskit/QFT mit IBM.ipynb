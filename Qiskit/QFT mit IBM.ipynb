{
 "cells": [
  {
   "cell_type": "code",
   "execution_count": null,
   "metadata": {},
   "outputs": [],
   "source": [
    "#wenn Notebook auf https://lab.quantum-computing.ibm.com ist diese Zelle automatisch bereits geladen\n",
    "import numpy as np\n",
    "\n",
    "# Importing standard Qiskit libraries\n",
    "from qiskit import QuantumCircuit, transpile, Aer, IBMQ\n",
    "from qiskit.tools.jupyter import *\n",
    "from qiskit.visualization import *\n",
    "from ibm_quantum_widgets import *\n",
    "from qiskit.providers.aer import QasmSimulator\n",
    "\n",
    "# Loading your IBM Quantum account(s)\n",
    "provider = IBMQ.load_account()"
   ]
  },
  {
   "cell_type": "code",
   "execution_count": null,
   "metadata": {},
   "outputs": [],
   "source": [
    "#wenn Notebook extern QISKIT noch mit !pip install qiskit installieren\n",
    "import qiskit\n",
    "from numpy import pi\n",
    "\n",
    "#wenn extern: Account manuell mit Token laden, wenn mit Quantencomputer kommuniziert werden soll\n",
    "from qiskit import IBMQ\n",
    "provider = IBMQ.enable_account('HIER Token von Q-Account')"
   ]
  },
  {
   "cell_type": "markdown",
   "metadata": {},
   "source": [
    "## QFT mit Qiskit"
   ]
  },
  {
   "cell_type": "code",
   "execution_count": null,
   "metadata": {},
   "outputs": [],
   "source": [
    "# (1) Initiieren des Quantenschaltkreises mit 3 Qubits\n",
    "QFTcircuit = qiskit.QuantumCircuit(3, 3)\n",
    "\n",
    "# (2) Zustand angeben, welcher in Fourier-Basis übertragen werden soll\n",
    "init_state = [1, 1, 0]\n",
    "for qubit, state in enumerate(init_state):\n",
    "    if state == 1:\n",
    "        QFTcircuit.x(qubit)\n",
    "\n",
    "# (3) jeden Qubit mit H-Gatter in die Fourier-Basis überführen\n",
    "QFTcircuit.h(0)\n",
    "\n",
    "# (4) Qubits über CU1-Gatter miteinander als gemeinsames QFT verknüpfen\n",
    "QFTcircuit.cp(pi/2, 1, 0)      #CU1 = 𝜋/2\n",
    "QFTcircuit.cp(pi/4, 2, 0)      #CU1 = 𝜋/4 -> langsam\n",
    "\n",
    "#rekursiv für q1 \n",
    "QFTcircuit.h(1)                 #H = 𝜋\n",
    "QFTcircuit.cp(pi/2, 2, 1)      #CU1 = 𝜋/2 -> mittel\n",
    "\n",
    "#rekursiv für q2\n",
    "QFTcircuit.h(2)                 #H = 𝜋 -> schneller Qubit\n",
    "\n",
    "#QFTcircuit.measure([0,1,2], [0,1,2])\n",
    "QFTcircuit.draw(output='mpl')"
   ]
  },
  {
   "cell_type": "markdown",
   "metadata": {},
   "source": [
    "### Simulation des Circuits auf der Bloch-Sphäre"
   ]
  },
  {
   "cell_type": "code",
   "execution_count": null,
   "metadata": {},
   "outputs": [],
   "source": [
    "#Simulieren auf der Bloch-Sphäre\n",
    "backend = qiskit.BasicAer.get_backend('statevector_simulator')\n",
    "job = qiskit.execute(QFTcircuit, backend).result()\n",
    "\n",
    "#Darstellung der Simulation als Bild\n",
    "qiskit.visualization.plot_bloch_multivector(job.get_statevector(QFTcircuit))"
   ]
  },
  {
   "cell_type": "markdown",
   "metadata": {},
   "source": [
    "### Messungen auf echtem Quantencomputer"
   ]
  },
  {
   "cell_type": "code",
   "execution_count": null,
   "metadata": {},
   "outputs": [],
   "source": [
    "#Messungen mit echtem Quantencomputer über die Cloud\n",
    "#Auflisten aller verfügbaren Backends (über https://lab.quantum-computing.ibm.com mehr verfügbar)\n",
    "provider.backends()"
   ]
  },
  {
   "cell_type": "code",
   "execution_count": null,
   "metadata": {},
   "outputs": [],
   "source": [
    "#Quantencomputer als Backend einstellen\n",
    "#gerne mit anderen probieren -> Achtung: Armonk zu wenig Qubits\n",
    "q_backend = provider.get_backend('ibmq_quito')\n",
    "\n",
    "#Wahrscheinlichkeiten werden gemessen -> mehrere Messungen/Shots\n",
    "q_job = qiskit.execute(QFTcircuit, q_backend, shots=1000).result()\n",
    "counts = q_job.get_counts(QFTcircuit)\n",
    "qiskit.visualization.plot_histogram(counts, title=\"Q-Computer\")"
   ]
  }
 ],
 "metadata": {
  "kernelspec": {
   "display_name": "Python 3",
   "language": "python",
   "name": "python3"
  },
  "language_info": {
   "codemirror_mode": {
    "name": "ipython",
    "version": 3
   },
   "file_extension": ".py",
   "mimetype": "text/x-python",
   "name": "python",
   "nbconvert_exporter": "python",
   "pygments_lexer": "ipython3",
   "version": "3.7.3"
  }
 },
 "nbformat": 4,
 "nbformat_minor": 2
}
